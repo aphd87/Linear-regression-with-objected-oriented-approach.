{
  "nbformat": 4,
  "nbformat_minor": 0,
  "metadata": {
    "colab": {
      "provenance": []
    },
    "kernelspec": {
      "name": "python3",
      "display_name": "Python 3"
    },
    "language_info": {
      "name": "python"
    }
  },
  "cells": [
    {
      "cell_type": "code",
      "execution_count": 2,
      "metadata": {
        "colab": {
          "base_uri": "https://localhost:8080/"
        },
        "id": "Q3x-oT7I6xVk",
        "outputId": "41686c42-9b0b-4fe7-d4ec-b73ac9b9eb70"
      },
      "outputs": [
        {
          "output_type": "stream",
          "name": "stdout",
          "text": [
            "Looking in indexes: https://pypi.org/simple, https://us-python.pkg.dev/colab-wheels/public/simple/\n",
            "Requirement already satisfied: torch in /usr/local/lib/python3.8/dist-packages (1.12.1+cu113)\n",
            "Requirement already satisfied: typing-extensions in /usr/local/lib/python3.8/dist-packages (from torch) (4.1.1)\n"
          ]
        }
      ],
      "source": [
        "!pip3 install torch\n",
        "import torch\n",
        "import torch.nn as nn #we will use inheritance such that LR will leverage base class nn.Module"
      ]
    },
    {
      "cell_type": "code",
      "source": [
        "#classes are used as templates/construction for creating new objects\n",
        "#Base class from nn.Module for all NNs, usually #LR class is sub class\n",
        "#Use double underscores for function here - initialize new instances of class, object that will be initliaized, first argument is self - instance of class\n",
        "#super() allows more freedom from multiple inheritance from parent classes\n",
        "#Declare self.lienar represents object we intend to initialize\n",
        "class LR(nn.Module): \n",
        "  def __init__(self, input_size, output_size):\n",
        "     super().__init__() \n",
        "     self.linear=nn.Linear(input_size, output_size) \n",
        "  def forward(self, x):\n",
        "    pred = self.linear(x)\n",
        "    return pred\n"
      ],
      "metadata": {
        "id": "d7bpjWd764qw"
      },
      "execution_count": 26,
      "outputs": []
    },
    {
      "cell_type": "code",
      "source": [
        "torch.manual_seed(1)\n",
        "model = LR(1,1)\n",
        "print(list(model.parameters()))"
      ],
      "metadata": {
        "colab": {
          "base_uri": "https://localhost:8080/"
        },
        "id": "uenoGLmm7Qp0",
        "outputId": "d1f8afc9-31e2-485d-f3ef-ac8141630037"
      },
      "execution_count": 27,
      "outputs": [
        {
          "output_type": "stream",
          "name": "stdout",
          "text": [
            "[Parameter containing:\n",
            "tensor([[0.5153]], requires_grad=True), Parameter containing:\n",
            "tensor([-0.4414], requires_grad=True)]\n"
          ]
        }
      ]
    },
    {
      "cell_type": "code",
      "source": [
        "x = torch.tensor([1.0])\n",
        "model = LR(1,1)\n",
        "print(model.forward(x))"
      ],
      "metadata": {
        "colab": {
          "base_uri": "https://localhost:8080/"
        },
        "id": "Kxop-G4p7sEn",
        "outputId": "447d29f3-5ef3-467b-f38c-122d7b6c519b"
      },
      "execution_count": 28,
      "outputs": [
        {
          "output_type": "stream",
          "name": "stdout",
          "text": [
            "tensor([0.2755], grad_fn=<AddBackward0>)\n"
          ]
        }
      ]
    },
    {
      "cell_type": "code",
      "source": [],
      "metadata": {
        "id": "VwqN5qc39IB-"
      },
      "execution_count": null,
      "outputs": []
    }
  ]
}